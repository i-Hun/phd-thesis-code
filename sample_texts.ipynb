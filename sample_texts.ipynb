{
 "cells": [
  {
   "cell_type": "code",
   "execution_count": 4,
   "metadata": {
    "ExecuteTime": {
     "end_time": "2017-09-19T14:02:03.366723Z",
     "start_time": "2017-09-19T14:02:03.359234Z"
    },
    "collapsed": true
   },
   "outputs": [],
   "source": [
    "import pandas as pd\n",
    "from pyquery import PyQuery as pq\n",
    "from segtok.segmenter import split_single, split_multi\n",
    "from segtok.tokenizer import symbol_tokenizer, word_tokenizer, web_tokenizer\n",
    "#http://textminingonline.com/dive-into-nltk-part-ii-sentence-tokenize-and-word-tokenize\n",
    "from nltk.tokenize import sent_tokenize"
   ]
  },
  {
   "cell_type": "code",
   "execution_count": 5,
   "metadata": {
    "ExecuteTime": {
     "end_time": "2017-09-19T14:02:11.605129Z",
     "start_time": "2017-09-19T14:02:03.549057Z"
    },
    "collapsed": true
   },
   "outputs": [],
   "source": [
    "df = pd.read_excel(\"../0 - all coding correct 3plus.xlsx\", 0)"
   ]
  },
  {
   "cell_type": "code",
   "execution_count": 6,
   "metadata": {
    "ExecuteTime": {
     "end_time": "2017-09-19T14:02:11.718416Z",
     "start_time": "2017-09-19T14:02:11.695926Z"
    }
   },
   "outputs": [
    {
     "data": {
      "text/plain": [
       "(24194, 87)"
      ]
     },
     "execution_count": 6,
     "metadata": {},
     "output_type": "execute_result"
    }
   ],
   "source": [
    "df.shape"
   ]
  },
  {
   "cell_type": "code",
   "execution_count": 7,
   "metadata": {
    "ExecuteTime": {
     "end_time": "2017-09-19T14:02:11.866749Z",
     "start_time": "2017-09-19T14:02:11.810300Z"
    }
   },
   "outputs": [
    {
     "data": {
      "text/html": [
       "<div>\n",
       "<style>\n",
       "    .dataframe thead tr:only-child th {\n",
       "        text-align: right;\n",
       "    }\n",
       "\n",
       "    .dataframe thead th {\n",
       "        text-align: left;\n",
       "    }\n",
       "\n",
       "    .dataframe tbody tr th {\n",
       "        vertical-align: top;\n",
       "    }\n",
       "</style>\n",
       "<table border=\"1\" class=\"dataframe\">\n",
       "  <thead>\n",
       "    <tr style=\"text-align: right;\">\n",
       "      <th></th>\n",
       "      <th>id</th>\n",
       "      <th>Время</th>\n",
       "      <th>Этноним</th>\n",
       "      <th>Логин</th>\n",
       "      <th>Понятно?</th>\n",
       "      <th>Этноним.1</th>\n",
       "      <th>Негатив</th>\n",
       "      <th>Позитив</th>\n",
       "      <th>Конфликт</th>\n",
       "      <th>Поз.взаим.</th>\n",
       "      <th>...</th>\n",
       "      <th>Unnamed: 77</th>\n",
       "      <th>Unnamed: 78</th>\n",
       "      <th>Unnamed: 79</th>\n",
       "      <th>Unnamed: 80</th>\n",
       "      <th>Unnamed: 81</th>\n",
       "      <th>Unnamed: 82</th>\n",
       "      <th>Unnamed: 83</th>\n",
       "      <th>Unnamed: 84</th>\n",
       "      <th>Unnamed: 85</th>\n",
       "      <th>Unnamed: 86</th>\n",
       "    </tr>\n",
       "  </thead>\n",
       "  <tbody>\n",
       "    <tr>\n",
       "      <th>0</th>\n",
       "      <td>киргизский_12</td>\n",
       "      <td>2016-09-16 14:11:00</td>\n",
       "      <td>девочку</td>\n",
       "      <td>nicketas</td>\n",
       "      <td>yes</td>\n",
       "      <td>several</td>\n",
       "      <td>weak</td>\n",
       "      <td>weak</td>\n",
       "      <td>unk</td>\n",
       "      <td>yes</td>\n",
       "      <td>...</td>\n",
       "      <td>NaN</td>\n",
       "      <td>NaN</td>\n",
       "      <td>NaN</td>\n",
       "      <td>NaN</td>\n",
       "      <td>NaN</td>\n",
       "      <td>NaN</td>\n",
       "      <td>NaN</td>\n",
       "      <td>NaN</td>\n",
       "      <td>NaN</td>\n",
       "      <td>NaN</td>\n",
       "    </tr>\n",
       "    <tr>\n",
       "      <th>1</th>\n",
       "      <td>азербот_46</td>\n",
       "      <td>2016-10-03 20:08:00</td>\n",
       "      <td>азерботы</td>\n",
       "      <td>yuvkhudyakov</td>\n",
       "      <td>yes</td>\n",
       "      <td>one</td>\n",
       "      <td>weak</td>\n",
       "      <td>no</td>\n",
       "      <td>yes</td>\n",
       "      <td>no</td>\n",
       "      <td>...</td>\n",
       "      <td>NaN</td>\n",
       "      <td>NaN</td>\n",
       "      <td>NaN</td>\n",
       "      <td>NaN</td>\n",
       "      <td>NaN</td>\n",
       "      <td>NaN</td>\n",
       "      <td>NaN</td>\n",
       "      <td>NaN</td>\n",
       "      <td>NaN</td>\n",
       "      <td>NaN</td>\n",
       "    </tr>\n",
       "    <tr>\n",
       "      <th>2</th>\n",
       "      <td>черножопый_146</td>\n",
       "      <td>2016-10-05 01:47:00</td>\n",
       "      <td>черножопые</td>\n",
       "      <td>alyonam</td>\n",
       "      <td>yes</td>\n",
       "      <td>one</td>\n",
       "      <td>weak</td>\n",
       "      <td>no</td>\n",
       "      <td>yes</td>\n",
       "      <td>no</td>\n",
       "      <td>...</td>\n",
       "      <td>NaN</td>\n",
       "      <td>NaN</td>\n",
       "      <td>NaN</td>\n",
       "      <td>NaN</td>\n",
       "      <td>NaN</td>\n",
       "      <td>NaN</td>\n",
       "      <td>NaN</td>\n",
       "      <td>NaN</td>\n",
       "      <td>NaN</td>\n",
       "      <td>NaN</td>\n",
       "    </tr>\n",
       "    <tr>\n",
       "      <th>3</th>\n",
       "      <td>гастарбайтер_140</td>\n",
       "      <td>2016-10-05 02:13:00</td>\n",
       "      <td>гастарбайтер</td>\n",
       "      <td>adzhigitova</td>\n",
       "      <td>yes</td>\n",
       "      <td>one</td>\n",
       "      <td>weak</td>\n",
       "      <td>no</td>\n",
       "      <td>yes</td>\n",
       "      <td>no</td>\n",
       "      <td>...</td>\n",
       "      <td>NaN</td>\n",
       "      <td>NaN</td>\n",
       "      <td>NaN</td>\n",
       "      <td>NaN</td>\n",
       "      <td>NaN</td>\n",
       "      <td>NaN</td>\n",
       "      <td>NaN</td>\n",
       "      <td>NaN</td>\n",
       "      <td>NaN</td>\n",
       "      <td>NaN</td>\n",
       "    </tr>\n",
       "    <tr>\n",
       "      <th>4</th>\n",
       "      <td>аварец_13</td>\n",
       "      <td>2016-09-22 14:28:00</td>\n",
       "      <td>Аварца</td>\n",
       "      <td>an_men</td>\n",
       "      <td>yes</td>\n",
       "      <td>one</td>\n",
       "      <td>weak</td>\n",
       "      <td>weak</td>\n",
       "      <td>yes</td>\n",
       "      <td>no</td>\n",
       "      <td>...</td>\n",
       "      <td>NaN</td>\n",
       "      <td>NaN</td>\n",
       "      <td>NaN</td>\n",
       "      <td>NaN</td>\n",
       "      <td>NaN</td>\n",
       "      <td>NaN</td>\n",
       "      <td>NaN</td>\n",
       "      <td>NaN</td>\n",
       "      <td>NaN</td>\n",
       "      <td>NaN</td>\n",
       "    </tr>\n",
       "  </tbody>\n",
       "</table>\n",
       "<p>5 rows × 87 columns</p>\n",
       "</div>"
      ],
      "text/plain": [
       "                 id               Время       Этноним         Логин Понятно?  \\\n",
       "0     киргизский_12 2016-09-16 14:11:00       девочку      nicketas      yes   \n",
       "1        азербот_46 2016-10-03 20:08:00      азерботы  yuvkhudyakov      yes   \n",
       "2    черножопый_146 2016-10-05 01:47:00    черножопые       alyonam      yes   \n",
       "3  гастарбайтер_140 2016-10-05 02:13:00  гастарбайтер   adzhigitova      yes   \n",
       "4         аварец_13 2016-09-22 14:28:00        Аварца        an_men      yes   \n",
       "\n",
       "  Этноним.1 Негатив Позитив Конфликт Поз.взаим.     ...       Unnamed: 77  \\\n",
       "0   several    weak    weak      unk        yes     ...               NaN   \n",
       "1       one    weak      no      yes         no     ...               NaN   \n",
       "2       one    weak      no      yes         no     ...               NaN   \n",
       "3       one    weak      no      yes         no     ...               NaN   \n",
       "4       one    weak    weak      yes         no     ...               NaN   \n",
       "\n",
       "   Unnamed: 78  Unnamed: 79  Unnamed: 80  Unnamed: 81  Unnamed: 82  \\\n",
       "0          NaN          NaN          NaN          NaN          NaN   \n",
       "1          NaN          NaN          NaN          NaN          NaN   \n",
       "2          NaN          NaN          NaN          NaN          NaN   \n",
       "3          NaN          NaN          NaN          NaN          NaN   \n",
       "4          NaN          NaN          NaN          NaN          NaN   \n",
       "\n",
       "   Unnamed: 83  Unnamed: 84  Unnamed: 85  Unnamed: 86  \n",
       "0          NaN          NaN          NaN          NaN  \n",
       "1          NaN          NaN          NaN          NaN  \n",
       "2          NaN          NaN          NaN          NaN  \n",
       "3          NaN          NaN          NaN          NaN  \n",
       "4          NaN          NaN          NaN          NaN  \n",
       "\n",
       "[5 rows x 87 columns]"
      ]
     },
     "execution_count": 7,
     "metadata": {},
     "output_type": "execute_result"
    }
   ],
   "source": [
    "df.head()"
   ]
  },
  {
   "cell_type": "code",
   "execution_count": 8,
   "metadata": {
    "ExecuteTime": {
     "end_time": "2017-09-19T14:02:12.095477Z",
     "start_time": "2017-09-19T14:02:11.976658Z"
    }
   },
   "outputs": [
    {
     "name": "stdout",
     "output_type": "stream",
     "text": [
      "<class 'pandas.core.frame.DataFrame'>\n",
      "Int64Index: 24194 entries, 0 to 25445\n",
      "Data columns (total 87 columns):\n",
      "id             24194 non-null object\n",
      "Время          24194 non-null datetime64[ns]\n",
      "Этноним        24194 non-null object\n",
      "Логин          24194 non-null object\n",
      "Понятно?       24181 non-null object\n",
      "Этноним.1      20229 non-null object\n",
      "Негатив        20229 non-null object\n",
      "Позитив        20229 non-null object\n",
      "Конфликт       20229 non-null object\n",
      "Поз.взаим.     20229 non-null object\n",
      "Этн.           17344 non-null float64\n",
      "Мигр.          17344 non-null float64\n",
      "Религ.         17344 non-null float64\n",
      "Соц.           17344 non-null float64\n",
      "Полит.         17344 non-null float64\n",
      "Экон.          17344 non-null float64\n",
      "Культ.         17344 non-null float64\n",
      "Быт            17344 non-null float64\n",
      "Юмор           17344 non-null float64\n",
      "Ист.           17344 non-null float64\n",
      "Др.            17344 non-null float64\n",
      "Непон.         17344 non-null float64\n",
      "Этноним 1      17344 non-null object\n",
      "Обобщение      12902 non-null float64\n",
      "Отношение      12902 non-null float64\n",
      "Агрессия       12902 non-null float64\n",
      "Солидар.       12902 non-null float64\n",
      "Низ/выс        12902 non-null float64\n",
      "Жертва?        12902 non-null float64\n",
      "Опасный?       12902 non-null float64\n",
      "Этноним 2      7551 non-null object\n",
      "Обобщение.1    6621 non-null float64\n",
      "Отношение.1    6621 non-null float64\n",
      "Агрессия.1     6621 non-null float64\n",
      "Солидар..1     6621 non-null float64\n",
      "Низ/выс.1      6621 non-null float64\n",
      "Жертва?.1      6621 non-null float64\n",
      "Опасный?.1     6621 non-null float64\n",
      "Этноним 3      3932 non-null object\n",
      "Обобщение.2    3563 non-null float64\n",
      "Отношение.2    3563 non-null float64\n",
      "Агрессия.2     3563 non-null float64\n",
      "Солидар..2     3563 non-null float64\n",
      "Низ/выс.2      3563 non-null float64\n",
      "Жертва?.2      3563 non-null float64\n",
      "Опасный?.2     3563 non-null float64\n",
      "Этноним 4      2275 non-null object\n",
      "Обобщение.3    2068 non-null float64\n",
      "Отношение.3    2068 non-null float64\n",
      "Агрессия.3     2068 non-null float64\n",
      "Солидар..3     2068 non-null float64\n",
      "Низ/выс.3      2068 non-null float64\n",
      "Жертва?.3      2068 non-null float64\n",
      "Опасный?.3     2068 non-null float64\n",
      "Текст          24194 non-null object\n",
      "Unnamed: 55    996 non-null object\n",
      "Unnamed: 56    358 non-null object\n",
      "Unnamed: 57    186 non-null object\n",
      "Unnamed: 58    154 non-null object\n",
      "Unnamed: 59    91 non-null object\n",
      "Unnamed: 60    76 non-null object\n",
      "Unnamed: 61    51 non-null object\n",
      "Unnamed: 62    48 non-null object\n",
      "Unnamed: 63    45 non-null object\n",
      "Unnamed: 64    42 non-null object\n",
      "Unnamed: 65    42 non-null object\n",
      "Unnamed: 66    42 non-null object\n",
      "Unnamed: 67    39 non-null object\n",
      "Unnamed: 68    36 non-null object\n",
      "Unnamed: 69    36 non-null object\n",
      "Unnamed: 70    36 non-null object\n",
      "Unnamed: 71    36 non-null object\n",
      "Unnamed: 72    32 non-null object\n",
      "Unnamed: 73    32 non-null object\n",
      "Unnamed: 74    32 non-null object\n",
      "Unnamed: 75    32 non-null object\n",
      "Unnamed: 76    32 non-null object\n",
      "Unnamed: 77    11 non-null object\n",
      "Unnamed: 78    11 non-null object\n",
      "Unnamed: 79    11 non-null object\n",
      "Unnamed: 80    11 non-null object\n",
      "Unnamed: 81    11 non-null object\n",
      "Unnamed: 82    11 non-null object\n",
      "Unnamed: 83    11 non-null object\n",
      "Unnamed: 84    3 non-null object\n",
      "Unnamed: 85    3 non-null object\n",
      "Unnamed: 86    3 non-null object\n",
      "dtypes: datetime64[ns](1), float64(40), object(46)\n",
      "memory usage: 16.2+ MB\n"
     ]
    }
   ],
   "source": [
    "df.info()"
   ]
  },
  {
   "cell_type": "code",
   "execution_count": 9,
   "metadata": {
    "ExecuteTime": {
     "end_time": "2017-09-19T14:02:12.199280Z",
     "start_time": "2017-09-19T14:02:12.186619Z"
    }
   },
   "outputs": [
    {
     "data": {
      "text/plain": [
       "54"
      ]
     },
     "execution_count": 9,
     "metadata": {},
     "output_type": "execute_result"
    }
   ],
   "source": [
    "df.columns.tolist().index(\"Текст\")"
   ]
  },
  {
   "cell_type": "code",
   "execution_count": 10,
   "metadata": {
    "ExecuteTime": {
     "end_time": "2017-09-19T14:02:12.345916Z",
     "start_time": "2017-09-19T14:02:12.311539Z"
    },
    "collapsed": true
   },
   "outputs": [],
   "source": [
    "df = df[df.columns[:55]]"
   ]
  },
  {
   "cell_type": "code",
   "execution_count": 11,
   "metadata": {
    "ExecuteTime": {
     "end_time": "2017-09-19T14:02:12.443473Z",
     "start_time": "2017-09-19T14:02:12.423787Z"
    },
    "collapsed": true
   },
   "outputs": [],
   "source": [
    "df_contrast = df[(df[\"Конфликт\"] == \"yes\") | (df[\"Негатив\"] == \"strong\")]"
   ]
  },
  {
   "cell_type": "code",
   "execution_count": 12,
   "metadata": {
    "ExecuteTime": {
     "end_time": "2017-09-19T14:02:12.604855Z",
     "start_time": "2017-09-19T14:02:12.589693Z"
    }
   },
   "outputs": [
    {
     "data": {
      "text/plain": [
       "(5645, 55)"
      ]
     },
     "execution_count": 12,
     "metadata": {},
     "output_type": "execute_result"
    }
   ],
   "source": [
    "df_contrast.shape"
   ]
  },
  {
   "cell_type": "code",
   "execution_count": 13,
   "metadata": {
    "ExecuteTime": {
     "end_time": "2017-09-19T14:02:15.187020Z",
     "start_time": "2017-09-19T14:02:14.793687Z"
    }
   },
   "outputs": [],
   "source": [
    "for _id, text in df_contrast[\"Текст\"].sample(200, random_state=42).iteritems():\n",
    "    with open(\"../output/contrast_texts/texts/{}.txt\".format(_id), \"wt\") as f:\n",
    "        text = text.replace(\"\\n\", \" \").replace(\"\\r\", \" \")\n",
    "        text = text.replace(\"<br>\", \" \").replace(\"</br>\", \" \")\n",
    "        text = pq(text).text()\n",
    "        \n",
    "        for s in sent_tokenize(text):\n",
    "            f.write(\" \".join([token for token in web_tokenizer(s)]) + \"\\n\")\n"
   ]
  },
  {
   "cell_type": "code",
   "execution_count": null,
   "metadata": {
    "collapsed": true
   },
   "outputs": [],
   "source": []
  }
 ],
 "metadata": {
  "kernelspec": {
   "display_name": "Python 3",
   "language": "python",
   "name": "python3"
  },
  "language_info": {
   "codemirror_mode": {
    "name": "ipython",
    "version": 3
   },
   "file_extension": ".py",
   "mimetype": "text/x-python",
   "name": "python",
   "nbconvert_exporter": "python",
   "pygments_lexer": "ipython3",
   "version": "3.6.5"
  },
  "toc": {
   "nav_menu": {},
   "number_sections": true,
   "sideBar": true,
   "skip_h1_title": false,
   "toc_cell": false,
   "toc_position": {},
   "toc_section_display": "block",
   "toc_window_display": false
  },
  "varInspector": {
   "cols": {
    "lenName": 16,
    "lenType": 16,
    "lenVar": 40
   },
   "kernels_config": {
    "python": {
     "delete_cmd_postfix": "",
     "delete_cmd_prefix": "del ",
     "library": "var_list.py",
     "varRefreshCmd": "print(var_dic_list())"
    },
    "r": {
     "delete_cmd_postfix": ") ",
     "delete_cmd_prefix": "rm(",
     "library": "var_list.r",
     "varRefreshCmd": "cat(var_dic_list()) "
    }
   },
   "types_to_exclude": [
    "module",
    "function",
    "builtin_function_or_method",
    "instance",
    "_Feature"
   ],
   "window_display": false
  }
 },
 "nbformat": 4,
 "nbformat_minor": 2
}
